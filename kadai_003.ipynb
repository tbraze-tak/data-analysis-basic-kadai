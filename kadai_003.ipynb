{
  "nbformat": 4,
  "nbformat_minor": 0,
  "metadata": {
    "colab": {
      "provenance": []
    },
    "kernelspec": {
      "name": "python3",
      "display_name": "Python 3"
    },
    "language_info": {
      "name": "python"
    }
  },
  "cells": [
    {
      "cell_type": "code",
      "execution_count": 1,
      "metadata": {
        "colab": {
          "base_uri": "https://localhost:8080/"
        },
        "id": "EVA_YQ_2qTWJ",
        "outputId": "77ea7056-6439-4bf0-eda0-689d83f453c5"
      },
      "outputs": [
        {
          "output_type": "stream",
          "name": "stdout",
          "text": [
            "[[ 4  5  6  7]\n",
            " [12 17 22 27]\n",
            " [20 29 38 47]]\n"
          ]
        },
        {
          "output_type": "execute_result",
          "data": {
            "text/plain": [
              "47"
            ]
          },
          "metadata": {},
          "execution_count": 1
        }
      ],
      "source": [
        "#kadai_003\n",
        "\n",
        "import numpy as np\n",
        "\n",
        "a = np.array([[0,1], [2,3], [4,5]])\n",
        "b = np.array([[0,1,2,3], [4,5,6,7]])\n",
        "\n",
        "matrix_calc = np.dot(a, b)\n",
        "print(matrix_calc)\n",
        "\n",
        "matrix_calc.max()"
      ]
    }
  ]
}