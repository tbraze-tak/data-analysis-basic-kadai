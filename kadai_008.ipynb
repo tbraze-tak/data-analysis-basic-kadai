{
  "nbformat": 4,
  "nbformat_minor": 0,
  "metadata": {
    "colab": {
      "provenance": []
    },
    "kernelspec": {
      "name": "python3",
      "display_name": "Python 3"
    },
    "language_info": {
      "name": "python"
    }
  },
  "cells": [
    {
      "cell_type": "code",
      "execution_count": 3,
      "metadata": {
        "colab": {
          "base_uri": "https://localhost:8080/"
        },
        "id": "lzULv1vKm_Bw",
        "outputId": "27162f2f-8baf-44a6-e458-8d9ec8342da7"
      },
      "outputs": [
        {
          "output_type": "execute_result",
          "data": {
            "text/plain": [
              "0.9814814814814815"
            ]
          },
          "metadata": {},
          "execution_count": 3
        }
      ],
      "source": [
        "#ライブラリーインポート\n",
        "from sklearn.datasets import load_wine\n",
        "import pandas as pd\n",
        "\n",
        "from sklearn.model_selection import train_test_split\n",
        "from sklearn.metrics import accuracy_score\n",
        "\n",
        "#サンプルデータの取得\n",
        "dataset = load_wine()\n",
        "dataset.data\n",
        "df = pd.DataFrame(data=dataset.data, columns=dataset.feature_names)\n",
        "\n",
        "X = dataset.data\n",
        "y = dataset.target\n",
        "\n",
        "train_test_split(X, y, test_size=0.3, random_state=5)\n",
        "#以下のようにrandom_stateを指定しない場合、実行ごとに結果が異なる\n",
        "# train_test_split(X, y, test_size=0.3)\n",
        "X_train, X_test, y_train, y_test = train_test_split(X, y, test_size=0.3, random_state=5)\n",
        "\n",
        "#ランダムフォレストに対応するコード\n",
        "from sklearn.ensemble import RandomForestClassifier\n",
        "model = RandomForestClassifier()\n",
        "\n",
        "model.fit(X_train, y_train)\n",
        "y_pred = model.predict(X_test)\n",
        "y_pred\n",
        "\n",
        "\n",
        "accuracy_score(y_test, y_pred)\n"
      ]
    }
  ]
}